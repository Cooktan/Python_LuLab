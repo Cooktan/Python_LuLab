{
 "cells": [
  {
   "cell_type": "markdown",
   "metadata": {},
   "source": [
    "# LubLab Python excercise\n",
    "Data and code from this excericise will be directly from Tracy Heath's python lessons (https://eeob-biodata.github.io/BCB546X-python/) and the EEOB 546 Spring 2021 github repository (https://github.com/EEOB-BioData/BCB546-Spring2021)\n",
    "\n",
    "\n",
    "## Downloads that you must have before we can move forward.\n",
    "\n",
    "     1. https://www.anaconda.com/products/individual#Downloads\n",
    "     2. https://gitforwindows.org/(*Not needed for Mac users*)\n",
    "     \n",
    " #### Overview- What we will learn\n",
    "     1. Introduction to Github\n",
    "     2. Introduction to Anaconda and how to use it as a package manager\n",
    "     3. Introduction to Python coding\n",
    "     \n",
    "\n",
    " ### Github- what is it?\n",
    "   Github is a version control system that allows data and information to be shared and among collaborators in a cloud-based application for editing, creating, and developing software and other files. The benefits of Github are that you can  download (fork) different repositories to your local device and work on projects without an internet connection. When you have an internet connection and are ready to upload files to the group you can do so with a few simple codes from your  local device.\n",
    "    I have already developed a repository for this excercise which includes all of the necessary data. We will use this for the excercise.\n",
    "    "
   ]
  },
  {
   "cell_type": "markdown",
   "metadata": {},
   "source": [
    "##### Please download (clone) this repository to your desktop using the below code. Go to GitBash and navigate to your desktop\n",
    "```{r}\n",
    "cd Desktop/\n",
    "```"
   ]
  },
  {
   "cell_type": "markdown",
   "metadata": {},
   "source": [
    "   GitBash is a terminal that allows you to access your command line and interact with it in a unix-like language. If you are working on a Windows device then gitbash is not perfect unix and a Ubuntu interface will need to be downloaded for further unix coding. I can show you how to do this later if you would like.\n",
    "\n",
    "##### Mac users do not need to use gitbash. Instead just got to your spotlight and search \"Terminal\""
   ]
  },
  {
   "cell_type": "markdown",
   "metadata": {},
   "source": [
    "##### Clone the repository with the data to your local device.\n",
    "```{r}\n",
    "git clone https://github.com/Cooktan/Python_LuLab.git\n",
    "```"
   ]
  },
  {
   "cell_type": "markdown",
   "metadata": {},
   "source": [
    "### Anaconda/Conda\n",
    "\n",
    "Anaconda is a package management system and you will use it to install your packages as well as communicate in the shell with your Python and control your kernel (essentially OS)  with your machine in python. Additionally, you can use Anaconda to change environments to control package versions that you use as well. There is a lot to Anaconda that I don't fully understand.\n",
    "\n",
    "#### Working with Anaconda to download the appropriate packages.\n",
    "\n",
    "Open up your Anaconda Prompt and download the appropriate packages for using Python. These packages provide libraries of functions that increase the usefulness of Python without having to do large amounts of programming in the base language.\n",
    "\n",
    "\n",
    "\n",
    "    pip is another installer that you can use as well that may be on your device. I think Anaconda has it when you download    it.\n",
    "\n",
    "```{r}\n",
    "conda install numpy\n",
    "```\n",
    "\n",
    "```{r}\n",
    "    conda install pandas\n",
    "```\n",
    "```{r}\n",
    "    conda install matplotlib\n",
    "```\n",
    "```{r}\n",
    "    conda install seaborn\n",
    "```\n",
    "\n",
    "```{r}\n",
    "    conda install stringcolor\n",
    "```"
   ]
  },
  {
   "cell_type": "markdown",
   "metadata": {},
   "source": [
    "If these are already installed, you can update them\n",
    "```{r}\n",
    "    conda update --all\n",
    "```\n",
    "\n",
    "If you do not want to update everything you can specify individual packages to update as needed."
   ]
  },
  {
   "cell_type": "markdown",
   "metadata": {},
   "source": [
    "### Jupyter notebook\n",
    "Use your conda command line and open jupyter notebook. Jupyter notebook is an application that is installed with Anaconda and it allows you to document your code as well as run code directly from the worksheet.... This is actually what this page was made in.\n",
    "\n",
    "Type the below code into your Anaconda prompt. Additionally, you can open it up via a graphical user interface with the Anaconda Navigator that is already on your device if you downloaded Anaconda.\n",
    "\n",
    "```{r}\n",
    "    jupyter notebook\n",
    "```\n",
    "\n",
    "Navigate to your desktop, then the \"Python_LuLab\" file, and open the \"Python\" file in the Jupyter notebook application that opened in your web browser. \n",
    "\n",
    "Click New> Python 3\n",
    "\n",
    "\n",
    "This will open up a notebook that we will use for the coding. We can document code as well as run and see the ouput of the result. "
   ]
  },
  {
   "cell_type": "markdown",
   "metadata": {},
   "source": [
    "#### Other ways to use Python that you get with Anaconda or that you probably already have.\n",
    "\n",
    "1. Spyder -(graphical user interface similar to R studio to document and run python)\n",
    "2. R Studio 4.0.5\n",
    "3. Conda Command line"
   ]
  },
  {
   "cell_type": "markdown",
   "metadata": {},
   "source": [
    "## Time to Code!\n",
    "\n",
    "We will be using Dr. Heath's tutorial for this lesson. Go to the below link and we will use these codes to copy and paste into our Jupyter notebooks to run ourselves.\n",
    "\n",
    "https://eeob-biodata.github.io/BCB546X-python/\n"
   ]
  },
  {
   "cell_type": "markdown",
   "metadata": {},
   "source": [
    "##### Notes in addition to Dr. Heath's stuff.\n",
    "   *Even experienced coders use Google to solve many of the problems they are running into. Forums like Stack exchange and Stack overflow are very helpful. There is a good chance that you are not the first one to run into the issue and coders are very helpful.... so do not be afraid to Google the solution!"
   ]
  },
  {
   "cell_type": "markdown",
   "metadata": {},
   "source": [
    "#### Before this however, we are going to write a simple code in command line to make your github files unique so when you push them back to me we have everyone's file\n",
    "\n",
    "\n",
    "On your command line, TYPE the following command. This is a must for an initial coder. Also, it means you have coded in 2 languages today.\n",
    "```{r}\n",
    "       echo \"Hello World\" > {Your_Name.txt}\n",
    "```"
   ]
  },
  {
   "cell_type": "markdown",
   "metadata": {},
   "source": [
    "### Extra Git hub codes\n",
    "\n",
    "###### Cloning to your local device\n",
    "```{r}\n",
    "    git clone https://github.com/Cooktan/Python_LuLab.git\n",
    "```\n",
    "\n",
    "###### Readying the material on your local device\n",
    "```{r}\n",
    "\n",
    "    git add --all\n",
    "```\n",
    "\n",
    "##### Staging to send off to the cloud\n",
    "```{r}\n",
    "\n",
    "    git commit -m \"Some message\"\n",
    "```\n",
    "\n",
    "#####  Sending up to the clouds!\n",
    "```{r}\n",
    "   \n",
    "    git push\n",
    "```"
   ]
  }
 ],
 "metadata": {
  "kernelspec": {
   "display_name": "Python 3",
   "language": "python",
   "name": "python3"
  },
  "language_info": {
   "codemirror_mode": {
    "name": "ipython",
    "version": 3
   },
   "file_extension": ".py",
   "mimetype": "text/x-python",
   "name": "python",
   "nbconvert_exporter": "python",
   "pygments_lexer": "ipython3",
   "version": "3.8.5"
  }
 },
 "nbformat": 4,
 "nbformat_minor": 4
}
