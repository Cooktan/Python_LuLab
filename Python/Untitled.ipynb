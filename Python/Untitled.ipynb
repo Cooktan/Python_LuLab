{
 "cells": [
  {
   "cell_type": "markdown",
   "metadata": {},
   "source": [
    "# Title\n",
    "\n",
    "#### subsetting"
   ]
  },
  {
   "cell_type": "code",
   "execution_count": 4,
   "metadata": {},
   "outputs": [
    {
     "name": "stdout",
     "output_type": "stream",
     "text": [
      "8\n"
     ]
    }
   ],
   "source": [
    "seq = 'GACTTAATGGGCAATAGGCAAGCACTTGAAAAAGATGCCAACGACATGAAAACACAAGACAA'\n",
    "count = 0\n",
    "for base in seq:\n",
    "    if base == 'T':\n",
    "        count += 1\n",
    "\n",
    "print(count)"
   ]
  },
  {
   "cell_type": "code",
   "execution_count": 5,
   "metadata": {},
   "outputs": [
    {
     "name": "stdout",
     "output_type": "stream",
     "text": [
      "HELLO\n"
     ]
    }
   ],
   "source": [
    "s = \"hello\"\n",
    "capital_s = \"\"\n",
    "for char in s:\n",
    "   capital_letter = char.upper()\n",
    "   capital_s += capital_letter\n",
    "\n",
    "print(capital_s)"
   ]
  },
  {
   "cell_type": "code",
   "execution_count": 9,
   "metadata": {},
   "outputs": [
    {
     "name": "stdout",
     "output_type": "stream",
     "text": [
      "olleh\n"
     ]
    }
   ],
   "source": [
    "print(s[::-1])"
   ]
  },
  {
   "cell_type": "code",
   "execution_count": 10,
   "metadata": {},
   "outputs": [],
   "source": [
    "import pandas as pd\n",
    "import matplotlib.pyplot as plt\n",
    "import seaborn as sns"
   ]
  },
  {
   "cell_type": "code",
   "execution_count": 11,
   "metadata": {},
   "outputs": [],
   "source": [
    "%matplotlib inline"
   ]
  },
  {
   "cell_type": "code",
   "execution_count": 14,
   "metadata": {},
   "outputs": [],
   "source": [
    "surveys_complete = pd.read_csv('surveys_complete.csv', index_col=0)"
   ]
  },
  {
   "cell_type": "code",
   "execution_count": 13,
   "metadata": {},
   "outputs": [
    {
     "data": {
      "text/plain": [
       "<seaborn.axisgrid.FacetGrid at 0x217a5967670>"
      ]
     },
     "execution_count": 13,
     "metadata": {},
     "output_type": "execute_result"
    },
    {
     "data": {
      "image/png": "[encoded data removed]",
      "text/plain": [
       "<Figure size 360x360 with 1 Axes>"
      ]
     },
     "metadata": {
      "needs_background": "light"
     },
     "output_type": "display_data"
    }
   ],
   "source": [
    "sns.lmplot(x=\"weight\", y=\"hindfoot_length\", data=surveys_complete, fit_reg=False)"
   ]
  },
  {
   "cell_type": "code",
   "execution_count": 15,
   "metadata": {
    "scrolled": true
   },
   "outputs": [
    {
     "data": {
      "text/html": [
       "<div>\n",
       "<style scoped>\n",
       "    .dataframe tbody tr th:only-of-type {\n",
       "        vertical-align: middle;\n",
       "    }\n",
       "\n",
       "    .dataframe tbody tr th {\n",
       "        vertical-align: top;\n",
       "    }\n",
       "\n",
       "    .dataframe thead th {\n",
       "        text-align: right;\n",
       "    }\n",
       "</style>\n",
       "<table border=\"1\" class=\"dataframe\">\n",
       "  <thead>\n",
       "    <tr style=\"text-align: right;\">\n",
       "      <th></th>\n",
       "      <th>record_id</th>\n",
       "      <th>month</th>\n",
       "      <th>day</th>\n",
       "      <th>year</th>\n",
       "      <th>plot_id</th>\n",
       "      <th>species_id</th>\n",
       "      <th>sex</th>\n",
       "      <th>hindfoot_length</th>\n",
       "      <th>weight</th>\n",
       "      <th>genus</th>\n",
       "      <th>species</th>\n",
       "      <th>taxa</th>\n",
       "      <th>plot_type</th>\n",
       "    </tr>\n",
       "  </thead>\n",
       "  <tbody>\n",
       "    <tr>\n",
       "      <th>1</th>\n",
       "      <td>845</td>\n",
       "      <td>5</td>\n",
       "      <td>6</td>\n",
       "      <td>1978</td>\n",
       "      <td>2</td>\n",
       "      <td>NL</td>\n",
       "      <td>M</td>\n",
       "      <td>32</td>\n",
       "      <td>204</td>\n",
       "      <td>Neotoma</td>\n",
       "      <td>albigula</td>\n",
       "      <td>Rodent</td>\n",
       "      <td>Control</td>\n",
       "    </tr>\n",
       "    <tr>\n",
       "      <th>2</th>\n",
       "      <td>1164</td>\n",
       "      <td>8</td>\n",
       "      <td>5</td>\n",
       "      <td>1978</td>\n",
       "      <td>2</td>\n",
       "      <td>NL</td>\n",
       "      <td>M</td>\n",
       "      <td>34</td>\n",
       "      <td>199</td>\n",
       "      <td>Neotoma</td>\n",
       "      <td>albigula</td>\n",
       "      <td>Rodent</td>\n",
       "      <td>Control</td>\n",
       "    </tr>\n",
       "    <tr>\n",
       "      <th>3</th>\n",
       "      <td>1261</td>\n",
       "      <td>9</td>\n",
       "      <td>4</td>\n",
       "      <td>1978</td>\n",
       "      <td>2</td>\n",
       "      <td>NL</td>\n",
       "      <td>M</td>\n",
       "      <td>32</td>\n",
       "      <td>197</td>\n",
       "      <td>Neotoma</td>\n",
       "      <td>albigula</td>\n",
       "      <td>Rodent</td>\n",
       "      <td>Control</td>\n",
       "    </tr>\n",
       "    <tr>\n",
       "      <th>4</th>\n",
       "      <td>1756</td>\n",
       "      <td>4</td>\n",
       "      <td>29</td>\n",
       "      <td>1979</td>\n",
       "      <td>2</td>\n",
       "      <td>NL</td>\n",
       "      <td>M</td>\n",
       "      <td>33</td>\n",
       "      <td>166</td>\n",
       "      <td>Neotoma</td>\n",
       "      <td>albigula</td>\n",
       "      <td>Rodent</td>\n",
       "      <td>Control</td>\n",
       "    </tr>\n",
       "    <tr>\n",
       "      <th>5</th>\n",
       "      <td>1818</td>\n",
       "      <td>5</td>\n",
       "      <td>30</td>\n",
       "      <td>1979</td>\n",
       "      <td>2</td>\n",
       "      <td>NL</td>\n",
       "      <td>M</td>\n",
       "      <td>32</td>\n",
       "      <td>184</td>\n",
       "      <td>Neotoma</td>\n",
       "      <td>albigula</td>\n",
       "      <td>Rodent</td>\n",
       "      <td>Control</td>\n",
       "    </tr>\n",
       "    <tr>\n",
       "      <th>...</th>\n",
       "      <td>...</td>\n",
       "      <td>...</td>\n",
       "      <td>...</td>\n",
       "      <td>...</td>\n",
       "      <td>...</td>\n",
       "      <td>...</td>\n",
       "      <td>...</td>\n",
       "      <td>...</td>\n",
       "      <td>...</td>\n",
       "      <td>...</td>\n",
       "      <td>...</td>\n",
       "      <td>...</td>\n",
       "      <td>...</td>\n",
       "    </tr>\n",
       "    <tr>\n",
       "      <th>30459</th>\n",
       "      <td>32477</td>\n",
       "      <td>8</td>\n",
       "      <td>25</td>\n",
       "      <td>2001</td>\n",
       "      <td>7</td>\n",
       "      <td>PB</td>\n",
       "      <td>M</td>\n",
       "      <td>28</td>\n",
       "      <td>32</td>\n",
       "      <td>Chaetodipus</td>\n",
       "      <td>baileyi</td>\n",
       "      <td>Rodent</td>\n",
       "      <td>Rodent Exclosure</td>\n",
       "    </tr>\n",
       "    <tr>\n",
       "      <th>30460</th>\n",
       "      <td>33103</td>\n",
       "      <td>11</td>\n",
       "      <td>17</td>\n",
       "      <td>2001</td>\n",
       "      <td>7</td>\n",
       "      <td>PB</td>\n",
       "      <td>M</td>\n",
       "      <td>28</td>\n",
       "      <td>41</td>\n",
       "      <td>Chaetodipus</td>\n",
       "      <td>baileyi</td>\n",
       "      <td>Rodent</td>\n",
       "      <td>Rodent Exclosure</td>\n",
       "    </tr>\n",
       "    <tr>\n",
       "      <th>30461</th>\n",
       "      <td>33305</td>\n",
       "      <td>12</td>\n",
       "      <td>15</td>\n",
       "      <td>2001</td>\n",
       "      <td>7</td>\n",
       "      <td>PB</td>\n",
       "      <td>M</td>\n",
       "      <td>29</td>\n",
       "      <td>44</td>\n",
       "      <td>Chaetodipus</td>\n",
       "      <td>baileyi</td>\n",
       "      <td>Rodent</td>\n",
       "      <td>Rodent Exclosure</td>\n",
       "    </tr>\n",
       "    <tr>\n",
       "      <th>30462</th>\n",
       "      <td>34524</td>\n",
       "      <td>7</td>\n",
       "      <td>13</td>\n",
       "      <td>2002</td>\n",
       "      <td>7</td>\n",
       "      <td>PB</td>\n",
       "      <td>M</td>\n",
       "      <td>25</td>\n",
       "      <td>16</td>\n",
       "      <td>Chaetodipus</td>\n",
       "      <td>baileyi</td>\n",
       "      <td>Rodent</td>\n",
       "      <td>Rodent Exclosure</td>\n",
       "    </tr>\n",
       "    <tr>\n",
       "      <th>30463</th>\n",
       "      <td>35382</td>\n",
       "      <td>12</td>\n",
       "      <td>8</td>\n",
       "      <td>2002</td>\n",
       "      <td>7</td>\n",
       "      <td>PB</td>\n",
       "      <td>M</td>\n",
       "      <td>26</td>\n",
       "      <td>30</td>\n",
       "      <td>Chaetodipus</td>\n",
       "      <td>baileyi</td>\n",
       "      <td>Rodent</td>\n",
       "      <td>Rodent Exclosure</td>\n",
       "    </tr>\n",
       "  </tbody>\n",
       "</table>\n",
       "<p>30463 rows × 13 columns</p>\n",
       "</div>"
      ],
      "text/plain": [
       "       record_id  month  day  year  plot_id species_id sex  hindfoot_length  \\\n",
       "1            845      5    6  1978        2         NL   M               32   \n",
       "2           1164      8    5  1978        2         NL   M               34   \n",
       "3           1261      9    4  1978        2         NL   M               32   \n",
       "4           1756      4   29  1979        2         NL   M               33   \n",
       "5           1818      5   30  1979        2         NL   M               32   \n",
       "...          ...    ...  ...   ...      ...        ...  ..              ...   \n",
       "30459      32477      8   25  2001        7         PB   M               28   \n",
       "30460      33103     11   17  2001        7         PB   M               28   \n",
       "30461      33305     12   15  2001        7         PB   M               29   \n",
       "30462      34524      7   13  2002        7         PB   M               25   \n",
       "30463      35382     12    8  2002        7         PB   M               26   \n",
       "\n",
       "       weight        genus   species    taxa         plot_type  \n",
       "1         204      Neotoma  albigula  Rodent           Control  \n",
       "2         199      Neotoma  albigula  Rodent           Control  \n",
       "3         197      Neotoma  albigula  Rodent           Control  \n",
       "4         166      Neotoma  albigula  Rodent           Control  \n",
       "5         184      Neotoma  albigula  Rodent           Control  \n",
       "...       ...          ...       ...     ...               ...  \n",
       "30459      32  Chaetodipus   baileyi  Rodent  Rodent Exclosure  \n",
       "30460      41  Chaetodipus   baileyi  Rodent  Rodent Exclosure  \n",
       "30461      44  Chaetodipus   baileyi  Rodent  Rodent Exclosure  \n",
       "30462      16  Chaetodipus   baileyi  Rodent  Rodent Exclosure  \n",
       "30463      30  Chaetodipus   baileyi  Rodent  Rodent Exclosure  \n",
       "\n",
       "[30463 rows x 13 columns]"
      ]
     },
     "execution_count": 15,
     "metadata": {},
     "output_type": "execute_result"
    }
   ],
   "source": [
    "surveys_complete"
   ]
  },
  {
   "cell_type": "code",
   "execution_count": 16,
   "metadata": {},
   "outputs": [
    {
     "ename": "NameError",
     "evalue": "name 'plot_dims' is not defined",
     "output_type": "error",
     "traceback": [
      "\u001b[1;31m---------------------------------------------------------------------------\u001b[0m",
      "\u001b[1;31mNameError\u001b[0m                                 Traceback (most recent call last)",
      "\u001b[1;32m<ipython-input-16-2b72d880d40c>\u001b[0m in \u001b[0;36m<module>\u001b[1;34m\u001b[0m\n\u001b[1;32m----> 1\u001b[1;33m \u001b[0mfig\u001b[0m\u001b[1;33m,\u001b[0m \u001b[0max\u001b[0m \u001b[1;33m=\u001b[0m \u001b[0mplt\u001b[0m\u001b[1;33m.\u001b[0m\u001b[0msubplots\u001b[0m\u001b[1;33m(\u001b[0m\u001b[0mfigsize\u001b[0m\u001b[1;33m=\u001b[0m\u001b[0mplot_dims\u001b[0m\u001b[1;33m)\u001b[0m\u001b[1;33m\u001b[0m\u001b[1;33m\u001b[0m\u001b[0m\n\u001b[0m\u001b[0;32m      2\u001b[0m \u001b[0msns\u001b[0m\u001b[1;33m.\u001b[0m\u001b[0mboxplot\u001b[0m\u001b[1;33m(\u001b[0m\u001b[0mx\u001b[0m\u001b[1;33m=\u001b[0m\u001b[1;34m'species_id'\u001b[0m\u001b[1;33m,\u001b[0m \u001b[0my\u001b[0m\u001b[1;33m=\u001b[0m\u001b[1;34m'hindfoot_length'\u001b[0m\u001b[1;33m,\u001b[0m \u001b[0mdata\u001b[0m\u001b[1;33m=\u001b[0m\u001b[0msurveys_complete\u001b[0m\u001b[1;33m)\u001b[0m\u001b[1;33m\u001b[0m\u001b[1;33m\u001b[0m\u001b[0m\n\u001b[0;32m      3\u001b[0m \u001b[0max\u001b[0m\u001b[1;33m.\u001b[0m\u001b[0mset\u001b[0m\u001b[1;33m(\u001b[0m\u001b[0mxlabel\u001b[0m\u001b[1;33m=\u001b[0m\u001b[1;34m'Species ID'\u001b[0m\u001b[1;33m,\u001b[0m \u001b[0mylabel\u001b[0m\u001b[1;33m=\u001b[0m\u001b[1;34m'Hindfoot Length (mm)'\u001b[0m\u001b[1;33m)\u001b[0m\u001b[1;33m\u001b[0m\u001b[1;33m\u001b[0m\u001b[0m\n",
      "\u001b[1;31mNameError\u001b[0m: name 'plot_dims' is not defined"
     ]
    }
   ],
   "source": [
    "fig, ax = plt.subplots(figsize=plot_dims)\n",
    "sns.boxplot(x='species_id', y='hindfoot_length', data=surveys_complete)\n",
    "ax.set(xlabel='Species ID', ylabel='Hindfoot Length (mm)')"
   ]
  }
 ],
 "metadata": {
  "kernelspec": {
   "display_name": "Python 3",
   "language": "python",
   "name": "python3"
  },
  "language_info": {
   "codemirror_mode": {
    "name": "ipython",
    "version": 3
   },
   "file_extension": ".py",
   "mimetype": "text/x-python",
   "name": "python",
   "nbconvert_exporter": "python",
   "pygments_lexer": "ipython3",
   "version": "3.8.5"
  }
 },
 "nbformat": 4,
 "nbformat_minor": 4
}
